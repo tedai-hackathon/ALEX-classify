{
 "cells": [
  {
   "cell_type": "code",
   "execution_count": 16,
   "metadata": {},
   "outputs": [],
   "source": [
    "from classify_entity import ClassifyEntity\n",
    "\n",
    "ENTITIES_JSON = \"/Users/yassinkortam/Documents/GitHub/ALEX-classify/entities.json\"\n",
    "FLAGS_JSON = \"/Users/yassinkortam/Documents/GitHub/ALEX-classify/flags.json\"\n",
    "\n",
    "classify = ClassifyEntity(ENTITIES_JSON, FLAGS_JSON)"
   ]
  },
  {
   "cell_type": "markdown",
   "metadata": {},
   "source": [
    "Flags are ordered by their variance across legal entities. This informs the order in which the setup wizard asks customers questions about their business."
   ]
  },
  {
   "cell_type": "code",
   "execution_count": 17,
   "metadata": {},
   "outputs": [
    {
     "data": {
      "text/plain": [
       "['operating-agreement',\n",
       " 'member-managed',\n",
       " 'manager-managed',\n",
       " 'partnership-agreement',\n",
       " 'board',\n",
       " 'stock',\n",
       " 'limited-partner',\n",
       " 'partnership',\n",
       " 'informal',\n",
       " 'family',\n",
       " 'small business partnership',\n",
       " 'mutual-benefit',\n",
       " 'non-profit',\n",
       " 'religious',\n",
       " 'restrict-dissolution',\n",
       " 'public-benefit',\n",
       " 'transferable-interests-assets',\n",
       " 'restrict-transferable-interests-assets',\n",
       " 'restrict-resignation',\n",
       " 'automated-management',\n",
       " 'smart-contract',\n",
       " 'liable-partner',\n",
       " 'restrict-return-capital-contributions',\n",
       " 'restrict-dissolution',\n",
       " 'blockchain',\n",
       " 'smart-contract',\n",
       " 'board',\n",
       " 'automated-management',\n",
       " 'partnership',\n",
       " 'limited-partner',\n",
       " 'restrict-transferable-interests-assets',\n",
       " 'liable-partner',\n",
       " 'restrict-resignation',\n",
       " 'non-profit',\n",
       " 'transferable-interests-assets',\n",
       " 'operating-agreement',\n",
       " 'manager-managed',\n",
       " 'member-managed',\n",
       " 'mutual-benefit',\n",
       " 'public-benefit',\n",
       " 'religious',\n",
       " 'informal',\n",
       " 'small business partnership',\n",
       " 'stock',\n",
       " 'family',\n",
       " 'partnership-agreement',\n",
       " 'operating-agreement',\n",
       " 'board',\n",
       " 'restrict-return-capital-contributions',\n",
       " 'blockchain',\n",
       " 'restrict-return-capital-contributions',\n",
       " 'partnership-agreement',\n",
       " 'liable-partner',\n",
       " 'limited-partner',\n",
       " 'partnership',\n",
       " 'automated-management',\n",
       " 'smart-contract',\n",
       " 'blockchain',\n",
       " 'restrict-dissolution',\n",
       " 'restrict-resignation',\n",
       " 'family',\n",
       " 'restrict-transferable-interests-assets',\n",
       " 'transferable-interests-assets',\n",
       " 'manager-managed',\n",
       " 'member-managed',\n",
       " 'mutual-benefit',\n",
       " 'public-benefit',\n",
       " 'religious',\n",
       " 'non-profit',\n",
       " 'informal',\n",
       " 'small business partnership',\n",
       " 'stock']"
      ]
     },
     "execution_count": 17,
     "metadata": {},
     "output_type": "execute_result"
    }
   ],
   "source": [
    "[flag.name for flag in classify.flags]"
   ]
  },
  {
   "cell_type": "markdown",
   "metadata": {},
   "source": [
    "Increasing the number of flags increases match specificity."
   ]
  },
  {
   "cell_type": "code",
   "execution_count": 25,
   "metadata": {},
   "outputs": [
    {
     "data": {
      "text/plain": [
       "[('Wyoming Statutory Close Corporation Supplement', 0),\n",
       " ('Wyoming Statutory Close Corporation Supplement', 0),\n",
       " ('Wyoming Statutory Close Corporation Supplement', 0),\n",
       " ('Wyoming Business Corporation Act', 0),\n",
       " ('Wyoming Business Corporation Act', 0)]"
      ]
     },
     "execution_count": 25,
     "metadata": {},
     "output_type": "execute_result"
    }
   ],
   "source": [
    "classify.input_flags = [\"stk\"]\n",
    "[(entity.name, similarity) for entity, similarity in zip(classify.entities[:5], classify.entity_similarity[:5])]"
   ]
  },
  {
   "cell_type": "code",
   "execution_count": 26,
   "metadata": {},
   "outputs": [
    {
     "name": "stdout",
     "output_type": "stream",
     "text": [
      "['stock', 'member-managed', 'automated-management', 'smart-contract', 'liable-partner', 'restrict-return-capital-contributions', 'restrict-dissolution', 'blockchain', 'board', 'small business partnership', 'automated-management', 'partnership', 'limited-partner', 'restrict-transferable-interests-assets', 'liable-partner', 'restrict-resignation', 'restrict-resignation', 'restrict-transferable-interests-assets', 'transferable-interests-assets', 'public-benefit', 'restrict-dissolution', 'religious', 'non-profit', 'mutual-benefit', 'smart-contract', 'family', 'partnership', 'limited-partner', 'stock', 'board', 'partnership-agreement', 'manager-managed', 'non-profit', 'transferable-interests-assets', 'operating-agreement', 'manager-managed', 'member-managed', 'automated-management', 'smart-contract', 'blockchain', 'restrict-dissolution', 'restrict-resignation', 'family', 'transferable-interests-assets', 'operating-agreement', 'manager-managed', 'member-managed', 'mutual-benefit', 'public-benefit', 'religious', 'non-profit', 'partnership', 'limited-partner', 'liable-partner', 'partnership-agreement', 'restrict-return-capital-contributions', 'blockchain', 'restrict-return-capital-contributions', 'board', 'restrict-transferable-interests-assets', 'partnership-agreement', 'family', 'stock', 'small business partnership', 'religious', 'public-benefit', 'mutual-benefit', 'small business partnership', 'operating-agreement']\n"
     ]
    },
    {
     "data": {
      "text/plain": [
       "[('Wyoming Statutory Close Corporation Supplement', 0),\n",
       " ('Wyoming Statutory Close Corporation Supplement', 0),\n",
       " ('Wyoming Statutory Close Corporation Supplement', 0),\n",
       " ('Wyoming Business Corporation Act', 0),\n",
       " ('Wyoming Business Corporation Act', 0)]"
      ]
     },
     "execution_count": 26,
     "metadata": {},
     "output_type": "execute_result"
    }
   ],
   "source": [
    "classify.input_flags = [\"stk\", \"inf\"]\n",
    "classify.flags = [flag for flag in classify.flags if flag.mnemonic != \"inf\"]\n",
    "print([flag.name for flag in classify.flags])\n",
    "[(entity.name, similarity) for entity, similarity in zip(classify.entities[:5], classify.entity_similarity[:5])]"
   ]
  }
 ],
 "metadata": {
  "kernelspec": {
   "display_name": "alex",
   "language": "python",
   "name": "python3"
  },
  "language_info": {
   "codemirror_mode": {
    "name": "ipython",
    "version": 3
   },
   "file_extension": ".py",
   "mimetype": "text/x-python",
   "name": "python",
   "nbconvert_exporter": "python",
   "pygments_lexer": "ipython3",
   "version": "3.11.6"
  }
 },
 "nbformat": 4,
 "nbformat_minor": 2
}
