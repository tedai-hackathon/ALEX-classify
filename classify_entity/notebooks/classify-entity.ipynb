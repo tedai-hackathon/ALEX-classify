{
 "cells": [
  {
   "cell_type": "code",
   "execution_count": 1,
   "metadata": {},
   "outputs": [],
   "source": [
    "from classify_entity import ClassifyEntity\n",
    "\n",
    "ENTITIES_JSON = \"/Users/yassinkortam/Documents/GitHub/ALEX-classify/entities.json\"\n",
    "FLAGS_JSON = \"/Users/yassinkortam/Documents/GitHub/ALEX-classify/flags.json\"\n",
    "\n",
    "classify = ClassifyEntity(ENTITIES_JSON, FLAGS_JSON)"
   ]
  },
  {
   "cell_type": "markdown",
   "metadata": {},
   "source": [
    "Flags are ordered by their variance across legal entities. This informs the order in which the setup wizard asks customers questions about their business."
   ]
  },
  {
   "cell_type": "code",
   "execution_count": 27,
   "metadata": {},
   "outputs": [
    {
     "data": {
      "text/plain": [
       "['operating-agreement',\n",
       " 'manager-managed',\n",
       " 'member-managed',\n",
       " 'board',\n",
       " 'partnership-agreement',\n",
       " 'partnership',\n",
       " 'limited-partner',\n",
       " 'stock',\n",
       " 'informal',\n",
       " 'small business partnership',\n",
       " 'family',\n",
       " 'restrict-resignation',\n",
       " 'restrict-transferable-interests-assets',\n",
       " 'transferable-interests-assets',\n",
       " 'mutual-benefit',\n",
       " 'public-benefit',\n",
       " 'religious',\n",
       " 'non-profit',\n",
       " 'restrict-dissolution',\n",
       " 'liable-partner',\n",
       " 'automated-management',\n",
       " 'smart-contract',\n",
       " 'restrict-return-capital-contributions',\n",
       " 'blockchain']"
      ]
     },
     "execution_count": 27,
     "metadata": {},
     "output_type": "execute_result"
    }
   ],
   "source": [
    "[flag.name for flag in classify.flags]"
   ]
  },
  {
   "cell_type": "markdown",
   "metadata": {},
   "source": [
    "Increasing the number of flags increases match specificity."
   ]
  },
  {
   "cell_type": "code",
   "execution_count": 25,
   "metadata": {},
   "outputs": [
    {
     "data": {
      "text/plain": [
       "[('Wyoming Statutory Close Corporation Supplement', 1),\n",
       " ('Wyoming Business Corporation Act', 1),\n",
       " ('Wyoming Nonprofit Corporation Act', 0),\n",
       " ('Wyoming Limited Liability Company Act', 0),\n",
       " ('Series Limited Liability Company', 0)]"
      ]
     },
     "execution_count": 25,
     "metadata": {},
     "output_type": "execute_result"
    }
   ],
   "source": [
    "classify.input_flags = [\"stk\"]\n",
    "[(entity.name, similarity) for entity, similarity in zip(classify.entities[:5], classify.entity_similarity[:5])]"
   ]
  },
  {
   "cell_type": "code",
   "execution_count": 24,
   "metadata": {},
   "outputs": [
    {
     "data": {
      "text/plain": [
       "[('Wyoming Statutory Close Corporation Supplement', 1),\n",
       " ('Wyoming Business Corporation Act', 2),\n",
       " ('Wyoming Nonprofit Corporation Act', 0),\n",
       " ('Wyoming Limited Liability Company Act', 0),\n",
       " ('Series Limited Liability Company', 0)]"
      ]
     },
     "execution_count": 24,
     "metadata": {},
     "output_type": "execute_result"
    }
   ],
   "source": [
    "classify.input_flags = [\"stk\", \"inf\"]\n",
    "[(entity.name, similarity) for entity, similarity in zip(classify.entities[:5], classify.entity_similarity[:5])]"
   ]
  }
 ],
 "metadata": {
  "kernelspec": {
   "display_name": "alex",
   "language": "python",
   "name": "python3"
  },
  "language_info": {
   "codemirror_mode": {
    "name": "ipython",
    "version": 3
   },
   "file_extension": ".py",
   "mimetype": "text/x-python",
   "name": "python",
   "nbconvert_exporter": "python",
   "pygments_lexer": "ipython3",
   "version": "3.11.6"
  }
 },
 "nbformat": 4,
 "nbformat_minor": 2
}
