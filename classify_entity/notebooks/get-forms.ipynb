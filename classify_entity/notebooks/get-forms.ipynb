{
 "cells": [
  {
   "cell_type": "code",
   "execution_count": 1,
   "metadata": {},
   "outputs": [],
   "source": [
    "from classify_entity.form import Form"
   ]
  },
  {
   "cell_type": "code",
   "execution_count": 4,
   "metadata": {},
   "outputs": [
    {
     "data": {
      "text/plain": [
       "{'Mailing Address': None,\n",
       " 'Principal Office Address': None,\n",
       " 'Number and Class of Shares': None,\n",
       " 'Contact Person': None,\n",
       " 'Phone Number': None,\n",
       " 'Email Address': None,\n",
       " 'Entity Name': None,\n",
       " 'RA Name': None,\n",
       " 'RA Address': None,\n",
       " 'Address 1': None,\n",
       " 'Address 2': None,\n",
       " 'Address 3': None,\n",
       " 'Date 1': None,\n",
       " 'Date 2': None,\n",
       " 'Date 3': None,\n",
       " 'Incorporator 1': None,\n",
       " 'Incorporator 2': None,\n",
       " 'Incorporator 3': None,\n",
       " 'Incorporator PN 1': None,\n",
       " 'Incorporator PN 2': None,\n",
       " 'Incorporator PN 3': None,\n",
       " 'RA Name-1': None,\n",
       " 'RA Address-1': None,\n",
       " 'Entity Name-1': None,\n",
       " 'Registered Agent Date-1': None,\n",
       " 'Registered Agent Printed Name-1': None,\n",
       " 'Registered Agent Phone #-1': None,\n",
       " 'Registered Agent Title-1': None,\n",
       " 'Registered Agent Email-1': None,\n",
       " 'Registered Agent Mailing Address-1': None}"
      ]
     },
     "execution_count": 4,
     "metadata": {},
     "output_type": "execute_result"
    }
   ],
   "source": [
    "pc_doc = Form(docs_dir=\"docs\",\n",
    "                       url=\"https://sos.wyo.gov/Forms/Business/PROF/P-ArticlesIncorporation.pdf\")\n",
    "fields = pc_doc.fields\n",
    "fields"
   ]
  },
  {
   "cell_type": "code",
   "execution_count": 3,
   "metadata": {},
   "outputs": [],
   "source": [
    "fields[\"Entity Name\"] = \"My Company\"\n",
    "pc_doc.fields = fields\n",
    "pc_doc.save()"
   ]
  }
 ],
 "metadata": {
  "kernelspec": {
   "display_name": "alex",
   "language": "python",
   "name": "python3"
  },
  "language_info": {
   "codemirror_mode": {
    "name": "ipython",
    "version": 3
   },
   "file_extension": ".py",
   "mimetype": "text/x-python",
   "name": "python",
   "nbconvert_exporter": "python",
   "pygments_lexer": "ipython3",
   "version": "3.11.6"
  }
 },
 "nbformat": 4,
 "nbformat_minor": 2
}
